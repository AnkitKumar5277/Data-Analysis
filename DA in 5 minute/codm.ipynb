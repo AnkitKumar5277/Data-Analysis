{
 "cells": [
  {
   "cell_type": "code",
   "execution_count": 1,
   "id": "a18cf62b-724a-45ee-97ad-0670094d2b53",
   "metadata": {},
   "outputs": [],
   "source": [
    "import pandas as pd"
   ]
  },
  {
   "cell_type": "code",
   "execution_count": 2,
   "id": "baafeb77-f032-4ad7-baf5-a55356a0b8d4",
   "metadata": {},
   "outputs": [
    {
     "name": "stdout",
     "output_type": "stream",
     "text": [
      "Requirement already satisfied: ydata-profiling in c:\\users\\ankit kumar\\anaconda3\\lib\\site-packages (4.12.2)\n",
      "Requirement already satisfied: scipy<1.16,>=1.4.1 in c:\\users\\ankit kumar\\appdata\\roaming\\python\\python312\\site-packages (from ydata-profiling) (1.13.1)\n",
      "Requirement already satisfied: pandas!=1.4.0,<3,>1.1 in c:\\users\\ankit kumar\\appdata\\roaming\\python\\python312\\site-packages (from ydata-profiling) (2.2.2)\n",
      "Requirement already satisfied: matplotlib>=3.5 in c:\\users\\ankit kumar\\appdata\\roaming\\python\\python312\\site-packages (from ydata-profiling) (3.9.0)\n",
      "Requirement already satisfied: pydantic>=2 in c:\\users\\ankit kumar\\appdata\\roaming\\python\\python312\\site-packages (from ydata-profiling) (2.8.2)\n",
      "Requirement already satisfied: PyYAML<6.1,>=5.0.0 in c:\\users\\ankit kumar\\appdata\\roaming\\python\\python312\\site-packages (from ydata-profiling) (6.0.1)\n",
      "Requirement already satisfied: jinja2<3.2,>=2.11.1 in c:\\users\\ankit kumar\\appdata\\roaming\\python\\python312\\site-packages (from ydata-profiling) (3.1.4)\n",
      "Requirement already satisfied: visions<0.8.0,>=0.7.5 in c:\\users\\ankit kumar\\anaconda3\\lib\\site-packages (from visions[type_image_path]<0.8.0,>=0.7.5->ydata-profiling) (0.7.6)\n",
      "Requirement already satisfied: numpy<2.2,>=1.16.0 in c:\\users\\ankit kumar\\appdata\\roaming\\python\\python312\\site-packages (from ydata-profiling) (1.26.4)\n",
      "Requirement already satisfied: htmlmin==0.1.12 in c:\\users\\ankit kumar\\anaconda3\\lib\\site-packages (from ydata-profiling) (0.1.12)\n",
      "Requirement already satisfied: phik<0.13,>=0.11.1 in c:\\users\\ankit kumar\\anaconda3\\lib\\site-packages (from ydata-profiling) (0.12.4)\n",
      "Requirement already satisfied: requests<3,>=2.24.0 in c:\\users\\ankit kumar\\appdata\\roaming\\python\\python312\\site-packages (from ydata-profiling) (2.31.0)\n",
      "Requirement already satisfied: tqdm<5,>=4.48.2 in c:\\users\\ankit kumar\\appdata\\roaming\\python\\python312\\site-packages (from ydata-profiling) (4.66.5)\n",
      "Requirement already satisfied: seaborn<0.14,>=0.10.1 in c:\\users\\ankit kumar\\anaconda3\\lib\\site-packages (from ydata-profiling) (0.13.2)\n",
      "Requirement already satisfied: multimethod<2,>=1.4 in c:\\users\\ankit kumar\\anaconda3\\lib\\site-packages (from ydata-profiling) (1.12)\n",
      "Requirement already satisfied: statsmodels<1,>=0.13.2 in c:\\users\\ankit kumar\\anaconda3\\lib\\site-packages (from ydata-profiling) (0.14.2)\n",
      "Requirement already satisfied: typeguard<5,>=3 in c:\\users\\ankit kumar\\anaconda3\\lib\\site-packages (from ydata-profiling) (4.4.2)\n",
      "Requirement already satisfied: imagehash==4.3.1 in c:\\users\\ankit kumar\\anaconda3\\lib\\site-packages (from ydata-profiling) (4.3.1)\n",
      "Requirement already satisfied: wordcloud>=1.9.3 in c:\\users\\ankit kumar\\anaconda3\\lib\\site-packages (from ydata-profiling) (1.9.4)\n",
      "Requirement already satisfied: dacite>=1.8 in c:\\users\\ankit kumar\\anaconda3\\lib\\site-packages (from ydata-profiling) (1.9.2)\n",
      "Requirement already satisfied: PyWavelets in c:\\users\\ankit kumar\\anaconda3\\lib\\site-packages (from imagehash==4.3.1->ydata-profiling) (1.5.0)\n",
      "Requirement already satisfied: pillow in c:\\users\\ankit kumar\\appdata\\roaming\\python\\python312\\site-packages (from imagehash==4.3.1->ydata-profiling) (10.3.0)\n",
      "Requirement already satisfied: MarkupSafe>=2.0 in c:\\users\\ankit kumar\\appdata\\roaming\\python\\python312\\site-packages (from jinja2<3.2,>=2.11.1->ydata-profiling) (2.1.5)\n",
      "Requirement already satisfied: contourpy>=1.0.1 in c:\\users\\ankit kumar\\appdata\\roaming\\python\\python312\\site-packages (from matplotlib>=3.5->ydata-profiling) (1.2.1)\n",
      "Requirement already satisfied: cycler>=0.10 in c:\\users\\ankit kumar\\appdata\\roaming\\python\\python312\\site-packages (from matplotlib>=3.5->ydata-profiling) (0.12.1)\n",
      "Requirement already satisfied: fonttools>=4.22.0 in c:\\users\\ankit kumar\\appdata\\roaming\\python\\python312\\site-packages (from matplotlib>=3.5->ydata-profiling) (4.52.1)\n",
      "Requirement already satisfied: kiwisolver>=1.3.1 in c:\\users\\ankit kumar\\appdata\\roaming\\python\\python312\\site-packages (from matplotlib>=3.5->ydata-profiling) (1.4.5)\n",
      "Requirement already satisfied: packaging>=20.0 in c:\\users\\ankit kumar\\appdata\\roaming\\python\\python312\\site-packages (from matplotlib>=3.5->ydata-profiling) (24.0)\n",
      "Requirement already satisfied: pyparsing>=2.3.1 in c:\\users\\ankit kumar\\appdata\\roaming\\python\\python312\\site-packages (from matplotlib>=3.5->ydata-profiling) (3.1.2)\n",
      "Requirement already satisfied: python-dateutil>=2.7 in c:\\users\\ankit kumar\\appdata\\roaming\\python\\python312\\site-packages (from matplotlib>=3.5->ydata-profiling) (2.9.0.post0)\n",
      "Requirement already satisfied: pytz>=2020.1 in c:\\users\\ankit kumar\\appdata\\roaming\\python\\python312\\site-packages (from pandas!=1.4.0,<3,>1.1->ydata-profiling) (2024.1)\n",
      "Requirement already satisfied: tzdata>=2022.7 in c:\\users\\ankit kumar\\appdata\\roaming\\python\\python312\\site-packages (from pandas!=1.4.0,<3,>1.1->ydata-profiling) (2024.1)\n",
      "Requirement already satisfied: joblib>=0.14.1 in c:\\users\\ankit kumar\\anaconda3\\lib\\site-packages (from phik<0.13,>=0.11.1->ydata-profiling) (1.1.1)\n",
      "Requirement already satisfied: annotated-types>=0.4.0 in c:\\users\\ankit kumar\\appdata\\roaming\\python\\python312\\site-packages (from pydantic>=2->ydata-profiling) (0.7.0)\n",
      "Requirement already satisfied: pydantic-core==2.20.1 in c:\\users\\ankit kumar\\appdata\\roaming\\python\\python312\\site-packages (from pydantic>=2->ydata-profiling) (2.20.1)\n",
      "Requirement already satisfied: typing-extensions>=4.6.1 in c:\\users\\ankit kumar\\appdata\\roaming\\python\\python312\\site-packages (from pydantic>=2->ydata-profiling) (4.12.2)\n",
      "Requirement already satisfied: charset-normalizer<4,>=2 in c:\\users\\ankit kumar\\appdata\\roaming\\python\\python312\\site-packages (from requests<3,>=2.24.0->ydata-profiling) (3.3.2)\n",
      "Requirement already satisfied: idna<4,>=2.5 in c:\\users\\ankit kumar\\appdata\\roaming\\python\\python312\\site-packages (from requests<3,>=2.24.0->ydata-profiling) (3.7)\n",
      "Requirement already satisfied: urllib3<3,>=1.21.1 in c:\\users\\ankit kumar\\appdata\\roaming\\python\\python312\\site-packages (from requests<3,>=2.24.0->ydata-profiling) (2.2.1)\n",
      "Requirement already satisfied: certifi>=2017.4.17 in c:\\users\\ankit kumar\\appdata\\roaming\\python\\python312\\site-packages (from requests<3,>=2.24.0->ydata-profiling) (2024.2.2)\n",
      "Requirement already satisfied: patsy>=0.5.6 in c:\\users\\ankit kumar\\anaconda3\\lib\\site-packages (from statsmodels<1,>=0.13.2->ydata-profiling) (0.5.6)\n",
      "Requirement already satisfied: colorama in c:\\users\\ankit kumar\\appdata\\roaming\\python\\python312\\site-packages (from tqdm<5,>=4.48.2->ydata-profiling) (0.4.6)\n",
      "Requirement already satisfied: attrs>=19.3.0 in c:\\users\\ankit kumar\\appdata\\roaming\\python\\python312\\site-packages (from visions<0.8.0,>=0.7.5->visions[type_image_path]<0.8.0,>=0.7.5->ydata-profiling) (23.2.0)\n",
      "Requirement already satisfied: networkx>=2.4 in c:\\users\\ankit kumar\\anaconda3\\lib\\site-packages (from visions<0.8.0,>=0.7.5->visions[type_image_path]<0.8.0,>=0.7.5->ydata-profiling) (3.2.1)\n",
      "Requirement already satisfied: six in c:\\users\\ankit kumar\\appdata\\roaming\\python\\python312\\site-packages (from patsy>=0.5.6->statsmodels<1,>=0.13.2->ydata-profiling) (1.16.0)\n"
     ]
    }
   ],
   "source": [
    "!pip install ydata-profiling"
   ]
  },
  {
   "cell_type": "code",
   "execution_count": 3,
   "id": "ac083f04-5f78-4a2e-86c2-11a4ba6ee6b4",
   "metadata": {},
   "outputs": [
    {
     "name": "stderr",
     "output_type": "stream",
     "text": [
      "C:\\Users\\Ankit Kumar\\AppData\\Local\\Temp\\ipykernel_8304\\2274191625.py:1: DeprecationWarning: `import pandas_profiling` is going to be deprecated by April 1st. Please use `import ydata_profiling` instead.\n",
      "  from pandas_profiling import ProfileReport\n"
     ]
    }
   ],
   "source": [
    "from pandas_profiling import ProfileReport"
   ]
  },
  {
   "cell_type": "code",
   "execution_count": 4,
   "id": "f8ed39e3-d591-46c6-b189-c25546eca520",
   "metadata": {},
   "outputs": [
    {
     "data": {
      "text/html": [
       "<div>\n",
       "<style scoped>\n",
       "    .dataframe tbody tr th:only-of-type {\n",
       "        vertical-align: middle;\n",
       "    }\n",
       "\n",
       "    .dataframe tbody tr th {\n",
       "        vertical-align: top;\n",
       "    }\n",
       "\n",
       "    .dataframe thead th {\n",
       "        text-align: right;\n",
       "    }\n",
       "</style>\n",
       "<table border=\"1\" class=\"dataframe\">\n",
       "  <thead>\n",
       "    <tr style=\"text-align: right;\">\n",
       "      <th></th>\n",
       "      <th>Date</th>\n",
       "      <th>Level</th>\n",
       "      <th>MVP</th>\n",
       "      <th>Games</th>\n",
       "      <th>Top 3</th>\n",
       "      <th>Kills</th>\n",
       "      <th>K/D</th>\n",
       "      <th>Avg. Accuracy</th>\n",
       "      <th>Assault Rifle Kills</th>\n",
       "      <th>SMG Kills</th>\n",
       "      <th>LMG Kills</th>\n",
       "      <th>Shotgun Kills</th>\n",
       "      <th>Sniper Kills</th>\n",
       "      <th>Secondary Weapon Kills</th>\n",
       "      <th>Grenade Kills</th>\n",
       "    </tr>\n",
       "  </thead>\n",
       "  <tbody>\n",
       "    <tr>\n",
       "      <th>0</th>\n",
       "      <td>08/01/2020 15:38</td>\n",
       "      <td>18</td>\n",
       "      <td>12</td>\n",
       "      <td>28</td>\n",
       "      <td>22</td>\n",
       "      <td>460</td>\n",
       "      <td>3.15</td>\n",
       "      <td>22.18%</td>\n",
       "      <td>138</td>\n",
       "      <td>33</td>\n",
       "      <td>73</td>\n",
       "      <td>10</td>\n",
       "      <td>60</td>\n",
       "      <td>40</td>\n",
       "      <td>13</td>\n",
       "    </tr>\n",
       "    <tr>\n",
       "      <th>1</th>\n",
       "      <td>14/01/2020 16:56</td>\n",
       "      <td>19</td>\n",
       "      <td>12</td>\n",
       "      <td>34</td>\n",
       "      <td>25</td>\n",
       "      <td>528</td>\n",
       "      <td>2.81</td>\n",
       "      <td>22.82%</td>\n",
       "      <td>147</td>\n",
       "      <td>33</td>\n",
       "      <td>83</td>\n",
       "      <td>10</td>\n",
       "      <td>60</td>\n",
       "      <td>76</td>\n",
       "      <td>16</td>\n",
       "    </tr>\n",
       "    <tr>\n",
       "      <th>2</th>\n",
       "      <td>17/01/2020 00:26</td>\n",
       "      <td>19</td>\n",
       "      <td>12</td>\n",
       "      <td>34</td>\n",
       "      <td>25</td>\n",
       "      <td>528</td>\n",
       "      <td>2.81</td>\n",
       "      <td>22.82%</td>\n",
       "      <td>147</td>\n",
       "      <td>33</td>\n",
       "      <td>83</td>\n",
       "      <td>10</td>\n",
       "      <td>60</td>\n",
       "      <td>76</td>\n",
       "      <td>16</td>\n",
       "    </tr>\n",
       "    <tr>\n",
       "      <th>3</th>\n",
       "      <td>18/01/2020 11:37</td>\n",
       "      <td>20</td>\n",
       "      <td>13</td>\n",
       "      <td>37</td>\n",
       "      <td>27</td>\n",
       "      <td>575</td>\n",
       "      <td>2.74</td>\n",
       "      <td>22.54%</td>\n",
       "      <td>147</td>\n",
       "      <td>63</td>\n",
       "      <td>83</td>\n",
       "      <td>10</td>\n",
       "      <td>61</td>\n",
       "      <td>76</td>\n",
       "      <td>19</td>\n",
       "    </tr>\n",
       "    <tr>\n",
       "      <th>4</th>\n",
       "      <td>24/01/2020 08:30</td>\n",
       "      <td>21</td>\n",
       "      <td>15</td>\n",
       "      <td>40</td>\n",
       "      <td>30</td>\n",
       "      <td>631</td>\n",
       "      <td>2.70</td>\n",
       "      <td>22.12%</td>\n",
       "      <td>174</td>\n",
       "      <td>73</td>\n",
       "      <td>83</td>\n",
       "      <td>10</td>\n",
       "      <td>61</td>\n",
       "      <td>76</td>\n",
       "      <td>23</td>\n",
       "    </tr>\n",
       "    <tr>\n",
       "      <th>5</th>\n",
       "      <td>30/01/2020 08:33</td>\n",
       "      <td>26</td>\n",
       "      <td>22</td>\n",
       "      <td>59</td>\n",
       "      <td>40</td>\n",
       "      <td>939</td>\n",
       "      <td>2.57</td>\n",
       "      <td>21.24%</td>\n",
       "      <td>357</td>\n",
       "      <td>73</td>\n",
       "      <td>83</td>\n",
       "      <td>11</td>\n",
       "      <td>61</td>\n",
       "      <td>126</td>\n",
       "      <td>30</td>\n",
       "    </tr>\n",
       "    <tr>\n",
       "      <th>6</th>\n",
       "      <td>17/03/2020 23:19</td>\n",
       "      <td>42</td>\n",
       "      <td>54</td>\n",
       "      <td>145</td>\n",
       "      <td>95</td>\n",
       "      <td>2432</td>\n",
       "      <td>2.53</td>\n",
       "      <td>20.35%</td>\n",
       "      <td>958</td>\n",
       "      <td>265</td>\n",
       "      <td>247</td>\n",
       "      <td>41</td>\n",
       "      <td>121</td>\n",
       "      <td>244</td>\n",
       "      <td>66</td>\n",
       "    </tr>\n",
       "  </tbody>\n",
       "</table>\n",
       "</div>"
      ],
      "text/plain": [
       "               Date  Level  MVP  Games  Top 3  Kills   K/D Avg. Accuracy  \\\n",
       "0  08/01/2020 15:38     18   12     28     22    460  3.15        22.18%   \n",
       "1  14/01/2020 16:56     19   12     34     25    528  2.81        22.82%   \n",
       "2  17/01/2020 00:26     19   12     34     25    528  2.81        22.82%   \n",
       "3  18/01/2020 11:37     20   13     37     27    575  2.74        22.54%   \n",
       "4  24/01/2020 08:30     21   15     40     30    631  2.70        22.12%   \n",
       "5  30/01/2020 08:33     26   22     59     40    939  2.57        21.24%   \n",
       "6  17/03/2020 23:19     42   54    145     95   2432  2.53        20.35%   \n",
       "\n",
       "   Assault Rifle Kills  SMG Kills  LMG Kills  Shotgun Kills  Sniper Kills  \\\n",
       "0                  138         33         73             10            60   \n",
       "1                  147         33         83             10            60   \n",
       "2                  147         33         83             10            60   \n",
       "3                  147         63         83             10            61   \n",
       "4                  174         73         83             10            61   \n",
       "5                  357         73         83             11            61   \n",
       "6                  958        265        247             41           121   \n",
       "\n",
       "   Secondary Weapon Kills  Grenade Kills  \n",
       "0                      40             13  \n",
       "1                      76             16  \n",
       "2                      76             16  \n",
       "3                      76             19  \n",
       "4                      76             23  \n",
       "5                     126             30  \n",
       "6                     244             66  "
      ]
     },
     "execution_count": 4,
     "metadata": {},
     "output_type": "execute_result"
    }
   ],
   "source": [
    "df = pd.read_csv('codm.csv')\n",
    "df"
   ]
  },
  {
   "cell_type": "code",
   "execution_count": 5,
   "id": "937d715b-57f5-4d5f-8028-3ef7fc282d76",
   "metadata": {},
   "outputs": [
    {
     "data": {
      "application/vnd.jupyter.widget-view+json": {
       "model_id": "2354a5000504470a8d261d12fe657933",
       "version_major": 2,
       "version_minor": 0
      },
      "text/plain": [
       "Summarize dataset:   0%|          | 0/5 [00:00<?, ?it/s]"
      ]
     },
     "metadata": {},
     "output_type": "display_data"
    },
    {
     "data": {
      "application/vnd.jupyter.widget-view+json": {
       "model_id": "7004de31c30140788ebb13646221f9ec",
       "version_major": 2,
       "version_minor": 0
      },
      "text/plain": [
       "Generate report structure:   0%|          | 0/1 [00:00<?, ?it/s]"
      ]
     },
     "metadata": {},
     "output_type": "display_data"
    },
    {
     "data": {
      "application/vnd.jupyter.widget-view+json": {
       "model_id": "8b39278d85084af886e4a6fbb0462439",
       "version_major": 2,
       "version_minor": 0
      },
      "text/plain": [
       "Render HTML:   0%|          | 0/1 [00:00<?, ?it/s]"
      ]
     },
     "metadata": {},
     "output_type": "display_data"
    },
    {
     "data": {
      "application/vnd.jupyter.widget-view+json": {
       "model_id": "20f0cefd5c1740368bf87fb701224b25",
       "version_major": 2,
       "version_minor": 0
      },
      "text/plain": [
       "Export report to file:   0%|          | 0/1 [00:00<?, ?it/s]"
      ]
     },
     "metadata": {},
     "output_type": "display_data"
    }
   ],
   "source": [
    "profile = ProfileReport(df)\n",
    "profile.to_file(output_file = \"codm.html\")"
   ]
  },
  {
   "cell_type": "code",
   "execution_count": 6,
   "id": "9c6a5e22-f7a3-401d-9a1f-c33c28c88102",
   "metadata": {},
   "outputs": [],
   "source": [
    "# profile = ProfileReport(df, minimal = True)\n",
    "# profile.to_file(output_file = \"codm.html\")"
   ]
  },
  {
   "cell_type": "code",
   "execution_count": null,
   "id": "6446d52c-824a-4337-9a55-1da718577039",
   "metadata": {},
   "outputs": [],
   "source": []
  }
 ],
 "metadata": {
  "kernelspec": {
   "display_name": "Python 3 (ipykernel)",
   "language": "python",
   "name": "python3"
  },
  "language_info": {
   "codemirror_mode": {
    "name": "ipython",
    "version": 3
   },
   "file_extension": ".py",
   "mimetype": "text/x-python",
   "name": "python",
   "nbconvert_exporter": "python",
   "pygments_lexer": "ipython3",
   "version": "3.12.4"
  }
 },
 "nbformat": 4,
 "nbformat_minor": 5
}
